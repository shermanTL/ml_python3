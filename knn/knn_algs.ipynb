{
 "cells": [
  {
   "cell_type": "markdown",
   "metadata": {},
   "source": [
    "# KNN\n",
    "## 1. 算法描述\n",
    "### 训练\n",
    "训练只需要存储数据，没有真正训练的过程。对于有n个样本数据集，KNN的时间复杂度O(1), 空间复杂度O(n)\n",
    "### 测试\n",
    "测试需要进行训练，因此时间复杂度为O(n),训练过程耗时也是KNN算法的缺点之一。具体算法过程如下:\n",
    "1. 对于测试集中每个样本点，计算该样本点和训练数据中每个样本之间的距离distance;\n",
    "2. 按照距离的递增次序排序，并选择距离最小的k个点;\n",
    "3. 确定前k个样本的类别，最多的类别即认为是测试样本预测的标签;"
   ]
  },
  {
   "cell_type": "markdown",
   "metadata": {},
   "source": [
    "## 2. 代码实现（step-by-step）\n",
    "### 创建一个数据集\n",
    "手动创建一个小规模的数据集，让我们的算法在该数据集上正确运行，调试完成后在将我们的算法封装，并在其他数据集上测试。"
   ]
  },
  {
   "cell_type": "code",
   "execution_count": 1,
   "metadata": {},
   "outputs": [],
   "source": [
    "import numpy as np\n",
    "def createDataSet():\n",
    "    X_train = np.array([[3.393533211, 2.331273381],\n",
    "                       [3.110073483, 1.781539638],\n",
    "                       [1.343808831, 3.368360954],\n",
    "                       [3.582294042, 4.679179110],\n",
    "                       [2.280362439, 2.866990263],\n",
    "                       [7.423469421, 4.694522875],\n",
    "                       [5.745051997, 3.533989803],\n",
    "                       [9.172168622, 2.511101045],\n",
    "                       [7.792783481, 3.424088941],\n",
    "                       [7.939820817, 0.791637231]])\n",
    "    y_train = np.array([0, 0, 0, 0, 0, 1, 1, 1, 1, 1])\n",
    "    X_test = np.array([5.43232312, 2.33435454])\n",
    "    return X_train, y_train, X_test\n",
    "\n",
    " "
   ]
  },
  {
   "cell_type": "markdown",
   "metadata": {},
   "source": [
    "调用createDataSet()函数，并答应数组纬度，确保正确。"
   ]
  },
  {
   "cell_type": "code",
   "execution_count": 2,
   "metadata": {},
   "outputs": [
    {
     "name": "stdout",
     "output_type": "stream",
     "text": [
      "X_train.shape: (10, 2), y_train.shape: (10,)\n",
      "X_test.shape: (2,)\n",
      "[5.43232312 2.33435454]\n"
     ]
    }
   ],
   "source": [
    "X_train, y_train, X_test = createDataSet()\n",
    "print(\"X_train.shape: \" + str(X_train.shape) + \", y_train.shape: \" + str(y_train.shape))\n",
    "print(\"X_test.shape: \" + str(X_test.shape) + \"\\n\" + str(X_test))"
   ]
  },
  {
   "cell_type": "code",
   "execution_count": 3,
   "metadata": {},
   "outputs": [
    {
     "data": {
      "text/plain": [
       "array([[7.42346942, 4.69452287],\n",
       "       [5.745052  , 3.5339898 ],\n",
       "       [9.17216862, 2.51110105],\n",
       "       [7.79278348, 3.42408894],\n",
       "       [7.93982082, 0.79163723]])"
      ]
     },
     "execution_count": 3,
     "metadata": {},
     "output_type": "execute_result"
    }
   ],
   "source": [
    "X_train[y_train == 1]"
   ]
  },
  {
   "cell_type": "markdown",
   "metadata": {},
   "source": [
    "可视化数据，方便更好的观察数据。"
   ]
  },
  {
   "cell_type": "code",
   "execution_count": 4,
   "metadata": {},
   "outputs": [
    {
     "data": {
      "image/png": "[encoded data removed]",
      "text/plain": [
       "<Figure size 432x288 with 1 Axes>"
      ]
     },
     "metadata": {},
     "output_type": "display_data"
    }
   ],
   "source": [
    "import matplotlib.pyplot as plt\n",
    "%matplotlib inline\n",
    "plt.scatter(X_train[y_train == 0][:, 0], X_train[y_train == 0][:, 1], color='g', label='negative')\n",
    "plt.scatter(X_train[y_train == 1][:, 0], X_train[y_train == 1][:, 1], color = 'r', label='positive')\n",
    "plt.scatter(X_test[0], X_test[1], color='b', label='testPnt')\n",
    "plt.legend()\n",
    "plt.show()"
   ]
  },
  {
   "cell_type": "markdown",
   "metadata": {},
   "source": [
    "### 计算距离1\n",
    "使用$L_2$距离来衡量两个样本点$L_1$和$L_2$之间的距离:\n",
    "$$\n",
    "    L_2(I_1, I_2) = \\sqrt{\\sum_{i=1}^n(I_1^{(i)} - I_2^{(i)})^2}\n",
    "$$"
   ]
  },
  {
   "cell_type": "code",
   "execution_count": 5,
   "metadata": {},
   "outputs": [],
   "source": [
    "def computerDistance1(X_train, X_test):\n",
    "    m, n = X_train.shape\n",
    "    distances = np.sqrt(((X_train - X_test)**2).sum(axis=1))\n",
    "    return distances "
   ]
  },
  {
   "cell_type": "markdown",
   "metadata": {},
   "source": [
    "输出距离计算的结果，观察是否正确"
   ]
  },
  {
   "cell_type": "code",
   "execution_count": 6,
   "metadata": {},
   "outputs": [
    {
     "name": "stdout",
     "output_type": "stream",
     "text": [
      "[3.46410162]\n",
      "[2.03879224 2.38714216 4.21724061 2.98677248 3.19664777 3.08788895\n",
      " 1.23972744 3.74401973 2.59986426 2.94406545]\n"
     ]
    }
   ],
   "source": [
    "print(computerDistance1(np.array([[1, 2, 3]]), np.array([3, 4, 5])))\n",
    "distances = computerDistance1(X_train, X_test)\n",
    "print(distances)"
   ]
  },
  {
   "cell_type": "markdown",
   "metadata": {},
   "source": [
    "将距离distances按升序排列，取前k个训练样本的标签作为测试样本的标签"
   ]
  },
  {
   "cell_type": "code",
   "execution_count": 7,
   "metadata": {},
   "outputs": [],
   "source": [
    "from collections import Counter\n",
    "k = 3\n",
    "k_indexes = distances.argsort()[:k]\n",
    "counter = Counter(y_train[k_indexes])\n",
    "pred = np.squeeze(counter.most_common(1))[0]"
   ]
  },
  {
   "cell_type": "code",
   "execution_count": 8,
   "metadata": {},
   "outputs": [
    {
     "name": "stdout",
     "output_type": "stream",
     "text": [
      "test label is predicted as: 0\n"
     ]
    }
   ],
   "source": [
    "print(\"test label is predicted as:\", pred)"
   ]
  },
  {
   "cell_type": "markdown",
   "metadata": {},
   "source": [
    "### 计算距离2\n",
    "在computeDistance1(X_train, X_test)函数中，X_train.shape==(m, n), X_test.shape==(n,)，其中$m$是训练样本数，$n$是样本的特征值。而实际测试中，我们的X_test可能有很多组，也就是说X_test.shape==(t, n)，$t$为测试样本数。现在我们需要编写一个新的距离计算函数computeDistance2(X_train, X_test)，X_train, X_test两者的维度不一样，我们不是用**for**循环，直接使用向量化操作加速计算距离，最终的distances是一个$t*n$的矩阵。"
   ]
  },
  {
   "cell_type": "code",
   "execution_count": 9,
   "metadata": {},
   "outputs": [],
   "source": [
    "def computeDistance2(X_train, X_test):\n",
    "    \"\"\"\n",
    "        X_train.shape == (m, n)\n",
    "        X_test.shape == (t, n)\n",
    "    \"\"\"\n",
    "    M = np.dot(X_test, X_train.T)\n",
    "    t, n = M.shape\n",
    "    te = np.diag(np.dot(X_test, X_test.T))\n",
    "    tr = np.diag(np.dot(X_train, X_train.T))\n",
    "    te = np.repeat(te, n).reshape(M.shape)\n",
    "    tr = np.tile(tr, t).reshape(M.shape)\n",
    "    return np.sqrt(te + tr - 2 * M)"
   ]
  },
  {
   "cell_type": "markdown",
   "metadata": {},
   "source": [
    "测试computeDistance2()函数，distances2[0,:]应该和computeDistance1()的返回结果相同。"
   ]
  },
  {
   "cell_type": "code",
   "execution_count": 10,
   "metadata": {},
   "outputs": [
    {
     "name": "stdout",
     "output_type": "stream",
     "text": [
      "[[2.03879224 2.38714216 4.21724061 2.98677248 3.19664777 3.08788895\n",
      "  1.23972744 3.74401973 2.59986426 2.94406545]\n",
      " [4.59802827 5.1061818  6.26345046 3.96505044 5.45309108 0.37626651\n",
      "  1.95829019 2.4522071  0.94678799 3.56606751]]\n"
     ]
    }
   ],
   "source": [
    "X_test_1 = np.array([[5.43232312, 2.33435454], [7.532321223, 4.334345453]])\n",
    "distances2 = computeDistance2(X_train, X_test_1)\n",
    "print(distances2)"
   ]
  },
  {
   "cell_type": "markdown",
   "metadata": {},
   "source": [
    "## 代码实现(encapsulation)"
   ]
  },
  {
   "cell_type": "code",
   "execution_count": 11,
   "metadata": {},
   "outputs": [],
   "source": [
    "class KNN:\n",
    "    def __init__(self):\n",
    "        pass\n",
    "    \n",
    "    def train(self, X, y):\n",
    "        self.X_train = X\n",
    "        self.y_train = y\n",
    "        \n",
    "    def _computeDistance(self, X_test):\n",
    "        M = np.dot(X_test, self.X_train.T)\n",
    "        t, n = M.shape\n",
    "        te = np.diag(np.dot(X_test, X_test.T))\n",
    "        tr = np.diag(np.dot(self.X_train, self.X_train.T))\n",
    "        te = np.repeat(te, n).reshape(M.shape)\n",
    "        tr = np.tile(tr, t).reshape(M.shape)\n",
    "        return np.sqrt(te + tr - 2 * M)\n",
    "    \n",
    "    def predict(self, X_test, k):\n",
    "        return self._predict(X_test, k)\n",
    "    \n",
    "    def _predict(self, X_test, k=1):\n",
    "        distances = self._computeDistance(X_test)\n",
    "        num_test = distances.shape[0]\n",
    "        k_indexes = distances.argsort()[:, :k]\n",
    "        y_pred_labels = np.zeros(num_test)\n",
    "        for i in range(num_test):\n",
    "            counter = Counter(self.y_train[k_indexes[i, :]])\n",
    "            y_pred_labels[i] = np.squeeze(counter.most_common(1))[0]\n",
    "        return y_pred_labels\n",
    "    def compute_error_rate(X_test， y_test, k):\n",
    "        y_pred_labels = self.predict(X_test, k)\n",
    "        error_count = np.sum(y_pred_labels, y_test)\n",
    "        return error_count / y_test"
   ]
  },
  {
   "cell_type": "code",
   "execution_count": 12,
   "metadata": {},
   "outputs": [
    {
     "data": {
      "text/plain": [
       "(array([[3.39353321, 2.33127338],\n",
       "        [3.11007348, 1.78153964],\n",
       "        [1.34380883, 3.36836095],\n",
       "        [3.58229404, 4.67917911],\n",
       "        [2.28036244, 2.86699026],\n",
       "        [7.42346942, 4.69452287],\n",
       "        [5.745052  , 3.5339898 ],\n",
       "        [9.17216862, 2.51110105],\n",
       "        [7.79278348, 3.42408894],\n",
       "        [7.93982082, 0.79163723]]),\n",
       " array([0, 0, 0, 0, 0, 1, 1, 1, 1, 1]),\n",
       " array([[5.43232312, 2.33435454],\n",
       "        [7.53232122, 4.33434545]]))"
      ]
     },
     "execution_count": 12,
     "metadata": {},
     "output_type": "execute_result"
    }
   ],
   "source": [
    "X_train, y_train, X_test_1"
   ]
  },
  {
   "cell_type": "code",
   "execution_count": 13,
   "metadata": {},
   "outputs": [],
   "source": [
    "knn = KNN()"
   ]
  },
  {
   "cell_type": "code",
   "execution_count": 14,
   "metadata": {},
   "outputs": [
    {
     "name": "stdout",
     "output_type": "stream",
     "text": [
      "[0. 1.]\n"
     ]
    }
   ],
   "source": [
    "knn.train(X_train, y_train)\n",
    "k = 3\n",
    "labels = knn.predict(X_test_1, k)\n",
    "print(labels)"
   ]
  },
  {
   "cell_type": "markdown",
   "metadata": {},
   "source": [
    "将写好的KNN算法放入**utils**模块中，方便我们在knn应用程序中直接调用。"
   ]
  },
  {
   "cell_type": "code",
   "execution_count": 15,
   "metadata": {},
   "outputs": [],
   "source": [
    "import utils \n",
    "import numpy as np"
   ]
  },
  {
   "cell_type": "code",
   "execution_count": 16,
   "metadata": {},
   "outputs": [
    {
     "name": "stdout",
     "output_type": "stream",
     "text": [
      "[0. 1.]\n"
     ]
    }
   ],
   "source": [
    "knn1 = utils.KNN()\n",
    "knn1.train(X_train, y_train)\n",
    "k1 = 3\n",
    "labels1 = knn1.predict(X_test_1, k1)\n",
    "print(labels1)"
   ]
  },
  {
   "cell_type": "markdown",
   "metadata": {},
   "source": [
    "从utils模块中导入的KNN和jupyter notebook中的KNN运行结果相同。"
   ]
  }
 ],
 "metadata": {
  "kernelspec": {
   "display_name": "Python 3",
   "language": "python",
   "name": "python3"
  },
  "language_info": {
   "codemirror_mode": {
    "name": "ipython",
    "version": 3
   },
   "file_extension": ".py",
   "mimetype": "text/x-python",
   "name": "python",
   "nbconvert_exporter": "python",
   "pygments_lexer": "ipython3",
   "version": "3.6.5"
  }
 },
 "nbformat": 4,
 "nbformat_minor": 2
}
